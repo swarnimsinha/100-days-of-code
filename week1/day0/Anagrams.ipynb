{
 "cells": [
  {
   "cell_type": "markdown",
   "metadata": {},
   "source": [
    "Check if two strings are anagrams or not"
   ]
  },
  {
   "cell_type": "code",
   "execution_count": 34,
   "metadata": {},
   "outputs": [],
   "source": [
    "def isAnagram(first, second):\n",
    "    if len(first) != len(second):\n",
    "        return 'Not Anagrams'\n",
    "    else:\n",
    "        firstDict = {}\n",
    "        secondDict = {}\n",
    "        for i in range(len(first)):\n",
    "            if first[i] in firstDict:\n",
    "                firstDict[first[i]] += 1\n",
    "            else:\n",
    "                firstDict[first[i]] = 1\n",
    "            if second[i] in secondDict:\n",
    "                secondDict[second[i]] += 1\n",
    "            else:\n",
    "                secondDict[second[i]] = 1\n",
    "        if firstDict == secondDict:\n",
    "            return 'Anagrams'\n",
    "        else:\n",
    "            return 'Not Anagrams'"
   ]
  },
  {
   "cell_type": "code",
   "execution_count": 35,
   "metadata": {},
   "outputs": [
    {
     "data": {
      "text/plain": [
       "'Not Anagrams'"
      ]
     },
     "execution_count": 35,
     "metadata": {},
     "output_type": "execute_result"
    }
   ],
   "source": [
    "isAnagram('malela', 'lamel')"
   ]
  },
  {
   "cell_type": "code",
   "execution_count": 36,
   "metadata": {},
   "outputs": [
    {
     "data": {
      "text/plain": [
       "'Anagrams'"
      ]
     },
     "execution_count": 36,
     "metadata": {},
     "output_type": "execute_result"
    }
   ],
   "source": [
    "isAnagram('malela', 'lamela')"
   ]
  },
  {
   "cell_type": "code",
   "execution_count": 37,
   "metadata": {},
   "outputs": [
    {
     "data": {
      "text/plain": [
       "'Not Anagrams'"
      ]
     },
     "execution_count": 37,
     "metadata": {},
     "output_type": "execute_result"
    }
   ],
   "source": [
    "isAnagram('malela', 'lamels')"
   ]
  }
 ],
 "metadata": {
  "kernelspec": {
   "display_name": "Python 3",
   "language": "python",
   "name": "python3"
  },
  "language_info": {
   "codemirror_mode": {
    "name": "ipython",
    "version": 3
   },
   "file_extension": ".py",
   "mimetype": "text/x-python",
   "name": "python",
   "nbconvert_exporter": "python",
   "pygments_lexer": "ipython3",
   "version": "3.6.2"
  }
 },
 "nbformat": 4,
 "nbformat_minor": 2
}
