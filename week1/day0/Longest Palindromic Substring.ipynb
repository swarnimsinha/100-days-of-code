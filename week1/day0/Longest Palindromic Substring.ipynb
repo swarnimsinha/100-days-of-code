{
 "cells": [
  {
   "cell_type": "markdown",
   "metadata": {},
   "source": [
    "Given a string s, find the longest palindromic substring in s. You may assume that the maximum length of s is 1000.\n",
    "\n",
    "Example:\n",
    "\n",
    "Input: \"babad\"\n",
    "\n",
    "Output: \"bab\"\n",
    "\n",
    "Note: \"aba\" is also a valid answer.\n",
    "\n",
    " \n",
    "\n",
    "Example:\n",
    "\n",
    "Input: \"cbbd\"\n",
    "\n",
    "Output: \"bb\"\n",
    "\n",
    "Source: https://leetcode.com/problems/longest-palindromic-substring/description/"
   ]
  },
  {
   "cell_type": "code",
   "execution_count": 5,
   "metadata": {
    "collapsed": true
   },
   "outputs": [],
   "source": [
    "class Solution:\n",
    "    def expandString(self, s, left, right):\n",
    "        while left >= 0 and right < len(s) and s[left] == s[right]:\n",
    "            left -= 1\n",
    "            right += 1\n",
    "        return s[left+1:right]\n",
    "        \n",
    "    def longestPalindrome(self, s):\n",
    "        \"\"\"\n",
    "        :type s: str\n",
    "        :rtype: str\n",
    "        \"\"\"\n",
    "        # print(s)\n",
    "        currentLength = 0\n",
    "        maxLength = 0\n",
    "        currStr = ''\n",
    "        for i in range(len(s)):\n",
    "            checkStr = self.expandString(s, i, i)\n",
    "            # print(checkStr)\n",
    "            if len(currStr) < len(checkStr):\n",
    "                currStr = checkStr\n",
    "            checkStr = self.expandString(s, i, i+1)\n",
    "            # print(checkStr)\n",
    "            if len(currStr) < len(checkStr):\n",
    "                currStr = checkStr\n",
    "        return currStr"
   ]
  },
  {
   "cell_type": "code",
   "execution_count": 12,
   "metadata": {},
   "outputs": [
    {
     "name": "stdout",
     "output_type": "stream",
     "text": [
      "anana\n"
     ]
    }
   ],
   "source": [
    "import sys\n",
    "def readlines():\n",
    "    for line in sys.stdin:\n",
    "        yield line.strip('\\n')\n",
    "\n",
    "lines = readlines()\n",
    "# while True:\n",
    "try:\n",
    "#         line = next(lines)\n",
    "#         s = stringToString(line);\n",
    "    s = 'banana'\n",
    "\n",
    "    ret = Solution().longestPalindrome(s)\n",
    "\n",
    "    out = (ret);\n",
    "    print(out)\n",
    "except StopIteration:\n",
    "    pass"
   ]
  },
  {
   "cell_type": "code",
   "execution_count": null,
   "metadata": {
    "collapsed": true
   },
   "outputs": [],
   "source": []
  }
 ],
 "metadata": {
  "kernelspec": {
   "display_name": "Python 3",
   "language": "python",
   "name": "python3"
  },
  "language_info": {
   "codemirror_mode": {
    "name": "ipython",
    "version": 3
   },
   "file_extension": ".py",
   "mimetype": "text/x-python",
   "name": "python",
   "nbconvert_exporter": "python",
   "pygments_lexer": "ipython3",
   "version": "3.6.2"
  }
 },
 "nbformat": 4,
 "nbformat_minor": 2
}
