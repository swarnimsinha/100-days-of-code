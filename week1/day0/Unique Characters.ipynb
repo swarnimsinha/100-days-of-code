{
 "cells": [
  {
   "cell_type": "markdown",
   "metadata": {},
   "source": [
    "Implement an algorithm to determine if a string has all unique characters\n",
    "What if you can not use additional data structures?"
   ]
  },
  {
   "cell_type": "code",
   "execution_count": 8,
   "metadata": {
    "collapsed": true
   },
   "outputs": [],
   "source": [
    "def isUniqueWithDS(s):\n",
    "    temp =  []\n",
    "    for key, val in enumerate(s):\n",
    "        if val not in temp:\n",
    "            temp.append(val)\n",
    "        else:\n",
    "            return 'Not Unique'\n",
    "    return 'Unique'"
   ]
  },
  {
   "cell_type": "code",
   "execution_count": 30,
   "metadata": {
    "collapsed": true
   },
   "outputs": [],
   "source": [
    "def isUniqueWithoutDS(s):\n",
    "    for i in range(len(s) -1):\n",
    "        for j in range(i + 1, len(s)):\n",
    "#             print(s[i], s[j])\n",
    "            if s[i] == s[j]:\n",
    "                return 'Not Unique'\n",
    "    return 'Unique'\n",
    "        "
   ]
  },
  {
   "cell_type": "code",
   "execution_count": 36,
   "metadata": {
    "collapsed": true
   },
   "outputs": [],
   "source": [
    "myString = 'qwertyul'"
   ]
  },
  {
   "cell_type": "code",
   "execution_count": 37,
   "metadata": {},
   "outputs": [
    {
     "data": {
      "text/plain": [
       "'Unique'"
      ]
     },
     "execution_count": 37,
     "metadata": {},
     "output_type": "execute_result"
    }
   ],
   "source": [
    "isUniqueWithoutDS(myString)"
   ]
  },
  {
   "cell_type": "code",
   "execution_count": 38,
   "metadata": {},
   "outputs": [
    {
     "data": {
      "text/plain": [
       "'Unique'"
      ]
     },
     "execution_count": 38,
     "metadata": {},
     "output_type": "execute_result"
    }
   ],
   "source": [
    "isUniqueWithDS(myString)"
   ]
  }
 ],
 "metadata": {
  "kernelspec": {
   "display_name": "Python 3",
   "language": "python",
   "name": "python3"
  },
  "language_info": {
   "codemirror_mode": {
    "name": "ipython",
    "version": 3
   },
   "file_extension": ".py",
   "mimetype": "text/x-python",
   "name": "python",
   "nbconvert_exporter": "python",
   "pygments_lexer": "ipython3",
   "version": "3.6.2"
  }
 },
 "nbformat": 4,
 "nbformat_minor": 2
}
