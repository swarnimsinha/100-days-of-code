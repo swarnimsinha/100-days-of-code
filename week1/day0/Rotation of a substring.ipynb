{
 "cells": [
  {
   "cell_type": "markdown",
   "metadata": {},
   "source": [
    "Assume  you  have  a  method  isSubstring  which  checks  if  one  word  is  a  substring  of \n",
    "another. Given two strings, s1 and s2, write code to check if s2 is a rotation of s1 using only one call to isSubstring (i e, “waterbottle” is a rotation of “erbottlewat”)\n",
    "________________________________________________________________"
   ]
  },
  {
   "cell_type": "code",
   "execution_count": 44,
   "metadata": {
    "collapsed": true
   },
   "outputs": [],
   "source": [
    "def rotation(self, other):\n",
    "    print(self, other)\n",
    "    if len(self) != len(other):\n",
    "        return 'False'\n",
    "    else:\n",
    "        # contacts contains the indexes where any of the letters matches the first letter\n",
    "        # then the string is rotated from those indexes and compared\n",
    "        # if match -> True and break\n",
    "        contacts  = []\n",
    "        for i in range(len(self)):\n",
    "            if self[i] == other[0]:\n",
    "                contacts.append(i)\n",
    "        print(contacts)\n",
    "        if len(contacts) > 0:\n",
    "            for i in range(len(contacts)):\n",
    "                compare = self[contacts[i]:] + self[:contacts[i]]\n",
    "                if  other == compare:\n",
    "                    flag = 'True'\n",
    "                    break\n",
    "                else:\n",
    "                    print(self)\n",
    "                    flag = 'False'\n",
    "            return flag\n",
    "        else:\n",
    "            return 'False'"
   ]
  },
  {
   "cell_type": "code",
   "execution_count": 43,
   "metadata": {
    "scrolled": true
   },
   "outputs": [
    {
     "name": "stdout",
     "output_type": "stream",
     "text": [
      "waterbottle erbottlewat\n",
      "[3, 10]\n",
      "3\n",
      "erbottlewat\n",
      "erbottlewat erbottlewat\n"
     ]
    },
    {
     "data": {
      "text/plain": [
       "'True'"
      ]
     },
     "execution_count": 43,
     "metadata": {},
     "output_type": "execute_result"
    }
   ],
   "source": [
    "first = 'waterbottle'\n",
    "second = 'erbottlewat'\n",
    "rotation(first, second)"
   ]
  }
 ],
 "metadata": {
  "kernelspec": {
   "display_name": "Python 3",
   "language": "python",
   "name": "python3"
  },
  "language_info": {
   "codemirror_mode": {
    "name": "ipython",
    "version": 3
   },
   "file_extension": ".py",
   "mimetype": "text/x-python",
   "name": "python",
   "nbconvert_exporter": "python",
   "pygments_lexer": "ipython3",
   "version": "3.6.2"
  }
 },
 "nbformat": 4,
 "nbformat_minor": 2
}
