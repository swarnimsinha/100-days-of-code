{
 "cells": [
  {
   "cell_type": "markdown",
   "metadata": {},
   "source": [
    "Given a 32-bit signed integer, reverse digits of an integer.\n",
    "Source: https://leetcode.com/problems/reverse-integer/description/"
   ]
  },
  {
   "cell_type": "code",
   "execution_count": 1,
   "metadata": {
    "collapsed": true
   },
   "outputs": [],
   "source": [
    "class Solution:\n",
    "    def reverse(self, x):\n",
    "        \"\"\"\n",
    "        :type x: int\n",
    "        :rtype: int\n",
    "        \"\"\"\n",
    "        myStr = str(x)\n",
    "        if x >= 0:\n",
    "            myStr = int(myStr[::-1])\n",
    "        else:\n",
    "            myStr = myStr[1:]\n",
    "            myStr = int(myStr[::-1])\n",
    "            myStr *= -1\n",
    "        if myStr > 2147483647 or myStr < -2147483648:\n",
    "            myStr = 0\n",
    "        return myStr"
   ]
  },
  {
   "cell_type": "code",
   "execution_count": 4,
   "metadata": {},
   "outputs": [
    {
     "name": "stdout",
     "output_type": "stream",
     "text": [
      "324\n",
      "-532\n",
      "0\n",
      "0\n",
      "78\n",
      "-29\n"
     ]
    }
   ],
   "source": [
    "a = [423, -235, 12221332133129, -93021887313178, 87, -92]\n",
    "for i in range(len(a)):\n",
    "    x = a[i]\n",
    "\n",
    "    ret = Solution().reverse(x)\n",
    "\n",
    "    out = str(ret);\n",
    "    print(out)"
   ]
  }
 ],
 "metadata": {
  "kernelspec": {
   "display_name": "Python 3",
   "language": "python",
   "name": "python3"
  },
  "language_info": {
   "codemirror_mode": {
    "name": "ipython",
    "version": 3
   },
   "file_extension": ".py",
   "mimetype": "text/x-python",
   "name": "python",
   "nbconvert_exporter": "python",
   "pygments_lexer": "ipython3",
   "version": "3.6.2"
  }
 },
 "nbformat": 4,
 "nbformat_minor": 2
}
