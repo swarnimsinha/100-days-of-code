{
 "cells": [
  {
   "cell_type": "markdown",
   "metadata": {},
   "source": [
    "Write code to reverse a C-Style String\n",
    "  (C-String means that “abcd” is represented as \n",
    "five characters, including the null character\n",
    " )"
   ]
  },
  {
   "cell_type": "code",
   "execution_count": 134,
   "metadata": {},
   "outputs": [],
   "source": [
    "def reverseString(s):\n",
    "    result = []\n",
    "    for i in range(len(s) - 1):\n",
    "        result.append(s[i])\n",
    "    result = result[::-1]\n",
    "    print(s[::-1]+'\\\\0')\n",
    "#     can use the commented part if string reversal wasn't an option\n",
    "#     for i in range(len(result)//2):\n",
    "#         j = len(result) - i - 1\n",
    "#         print(i,j)\n",
    "#         result[i], result[j] = result[j], result[i]\n",
    "#     result.append(\"\\\\\")\n",
    "#     result.append('0')\n",
    "#     print(''.join([i for i in result]))"
   ]
  },
  {
   "cell_type": "code",
   "execution_count": 135,
   "metadata": {},
   "outputs": [
    {
     "name": "stdout",
     "output_type": "stream",
     "text": [
      "\u0000esafdcba\\0\n"
     ]
    }
   ],
   "source": [
    "myStr = 'abcdfase\\0'\n",
    "reverseString(myStr)"
   ]
  }
 ],
 "metadata": {
  "kernelspec": {
   "display_name": "Python 3",
   "language": "python",
   "name": "python3"
  },
  "language_info": {
   "codemirror_mode": {
    "name": "ipython",
    "version": 3
   },
   "file_extension": ".py",
   "mimetype": "text/x-python",
   "name": "python",
   "nbconvert_exporter": "python",
   "pygments_lexer": "ipython3",
   "version": "3.6.2"
  }
 },
 "nbformat": 4,
 "nbformat_minor": 2
}
