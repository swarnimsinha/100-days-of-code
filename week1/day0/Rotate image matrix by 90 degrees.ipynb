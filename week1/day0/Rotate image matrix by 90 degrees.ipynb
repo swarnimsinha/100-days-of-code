{
 "cells": [
  {
   "cell_type": "code",
   "execution_count": 45,
   "metadata": {
    "collapsed": true
   },
   "outputs": [],
   "source": [
    "def rotateImage(array):\n",
    "    rotated = [[0,0,0],[0,0,0],[0,0,0]]\n",
    "    for i in range(len(array)):\n",
    "        for j in range(len(array[i])):\n",
    "            try:\n",
    "                rotated[j][len(array) - i - 1] = array[i][j]\n",
    "                print(i,j,'->',j,len(array) - 1 - i)\n",
    "            except:\n",
    "                pass\n",
    "    print(rotated)"
   ]
  },
  {
   "cell_type": "code",
   "execution_count": 46,
   "metadata": {},
   "outputs": [
    {
     "name": "stdout",
     "output_type": "stream",
     "text": [
      "0 0 -> 0 2\n",
      "0 1 -> 1 2\n",
      "0 2 -> 2 2\n",
      "1 0 -> 0 1\n",
      "1 1 -> 1 1\n",
      "1 2 -> 2 1\n",
      "2 0 -> 0 0\n",
      "2 1 -> 1 0\n",
      "2 2 -> 2 0\n",
      "[[7, 4, 1], [8, 5, 2], [9, 6, 3]]\n"
     ]
    }
   ],
   "source": [
    "myArray = [[1,2,3], [4,5,6], [7,8,9]]\n",
    "rotateImage(myArray)"
   ]
  },
  {
   "cell_type": "markdown",
   "metadata": {},
   "source": [
    "0,0 -> 0,2\n",
    "0,1 -> 1,2\n",
    "0,2 -> 2,2\n",
    "\n",
    "1,0 -> 0,1\n",
    "1,1 -> 1,1\n",
    "1,2 -> 2,1\n",
    "\n",
    "2,0 -> 0,0\n",
    "2,1 -> 1,0\n",
    "2,2 -> 2,0"
   ]
  }
 ],
 "metadata": {
  "kernelspec": {
   "display_name": "Python 3",
   "language": "python",
   "name": "python3"
  },
  "language_info": {
   "codemirror_mode": {
    "name": "ipython",
    "version": 3
   },
   "file_extension": ".py",
   "mimetype": "text/x-python",
   "name": "python",
   "nbconvert_exporter": "python",
   "pygments_lexer": "ipython3",
   "version": "3.6.2"
  }
 },
 "nbformat": 4,
 "nbformat_minor": 2
}
