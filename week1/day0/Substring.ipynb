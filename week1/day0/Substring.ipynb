{
 "cells": [
  {
   "cell_type": "markdown",
   "metadata": {},
   "source": [
    "Check whether a string is a substring of other"
   ]
  },
  {
   "cell_type": "code",
   "execution_count": 15,
   "metadata": {
    "collapsed": true
   },
   "outputs": [],
   "source": [
    "def counter(string):\n",
    "    strDict = {}\n",
    "    for key, val in enumerate(string):\n",
    "        if val in strDict:\n",
    "            strDict[val] += 1\n",
    "        else:\n",
    "            strDict[val] = 1\n",
    "    return(strDict)"
   ]
  },
  {
   "cell_type": "code",
   "execution_count": 60,
   "metadata": {
    "collapsed": true
   },
   "outputs": [],
   "source": [
    "def isSubstring(self, other):\n",
    "    selfDict = counter(self)\n",
    "    otherDict = counter(other)\n",
    "    flag = True\n",
    "    for key in otherDict:\n",
    "        val = otherDict[key]\n",
    "        if key not in selfDict:\n",
    "            flag = False\n",
    "            break\n",
    "        elif val > selfDict[key]:\n",
    "            flag = False\n",
    "            break\n",
    "        else:\n",
    "            flag = True\n",
    "    return flag"
   ]
  },
  {
   "cell_type": "code",
   "execution_count": 67,
   "metadata": {},
   "outputs": [
    {
     "data": {
      "text/plain": [
       "True"
      ]
     },
     "execution_count": 67,
     "metadata": {},
     "output_type": "execute_result"
    }
   ],
   "source": [
    "first = 'waterbottle'\n",
    "second = 'erbottlewat'\n",
    "isSubstring(first, second)"
   ]
  },
  {
   "cell_type": "code",
   "execution_count": null,
   "metadata": {
    "collapsed": true
   },
   "outputs": [],
   "source": []
  }
 ],
 "metadata": {
  "kernelspec": {
   "display_name": "Python 3",
   "language": "python",
   "name": "python3"
  },
  "language_info": {
   "codemirror_mode": {
    "name": "ipython",
    "version": 3
   },
   "file_extension": ".py",
   "mimetype": "text/x-python",
   "name": "python",
   "nbconvert_exporter": "python",
   "pygments_lexer": "ipython3",
   "version": "3.6.2"
  }
 },
 "nbformat": 4,
 "nbformat_minor": 2
}
