{
 "cells": [
  {
   "cell_type": "code",
   "execution_count": 2,
   "metadata": {
    "collapsed": true
   },
   "outputs": [],
   "source": [
    "class Node():\n",
    "    \n",
    "    \n",
    "    def __init__(self, value=None, next=None):\n",
    "        self.value = value\n",
    "        self.next = next"
   ]
  },
  {
   "cell_type": "code",
   "execution_count": 90,
   "metadata": {},
   "outputs": [],
   "source": [
    "class LinkedList():\n",
    "    \n",
    "    def __init__(self):\n",
    "        self.current = None\n",
    "    \n",
    "    def insert(self, value):\n",
    "        new_node = Node()\n",
    "        new_node.value = value\n",
    "        new_node.next = self.current\n",
    "        self.current = new_node\n",
    "        \n",
    "    def printList(self):\n",
    "        while self.current != None:\n",
    "            print(self.current.value)\n",
    "            self.current = self.current.next\n",
    "            \n",
    "    def sumLists(a, self, other):\n",
    "        \"\"\"\n",
    "        Sum the corresponding values, initialize carry to 0 and add the carry value\n",
    "        Set carry value to the sums//10\n",
    "        Set sum value to the sums mod 10\n",
    "        insert the sum value in the newly created linked list\"\"\"\n",
    "        addedList = LinkedList()\n",
    "        selfCurrent = self.current\n",
    "        otherCurrent = other.current\n",
    "        carry = 0\n",
    "        while selfCurrent != None and otherCurrent != None:\n",
    "            sumVal = (selfCurrent.value + otherCurrent.value + carry) % 10\n",
    "            print(sumVal)\n",
    "            addedList.insert(sumVal)\n",
    "            carry = (selfCurrent.value + otherCurrent.value) // 10\n",
    "            addedList.current = addedList.current.next\n",
    "            selfCurrent = selfCurrent.next\n",
    "            otherCurrent = otherCurrent.next\n",
    "        return addedList"
   ]
  },
  {
   "cell_type": "code",
   "execution_count": 91,
   "metadata": {},
   "outputs": [
    {
     "name": "stdout",
     "output_type": "stream",
     "text": [
      "7\n",
      "0\n",
      "9\n"
     ]
    }
   ],
   "source": [
    "c = LinkedList()\n",
    "c.sumLists(a,b)\n",
    "c.printList()"
   ]
  },
  {
   "cell_type": "code",
   "execution_count": 61,
   "metadata": {},
   "outputs": [],
   "source": [
    "a = LinkedList()\n",
    "a.insert(5)\n",
    "a.insert(6)\n",
    "a.insert(3)"
   ]
  },
  {
   "cell_type": "code",
   "execution_count": 82,
   "metadata": {},
   "outputs": [],
   "source": [
    "b = LinkedList()\n",
    "b.insert(3)\n",
    "b.insert(4)\n",
    "b.insert(4)"
   ]
  },
  {
   "cell_type": "code",
   "execution_count": 63,
   "metadata": {},
   "outputs": [
    {
     "name": "stdout",
     "output_type": "stream",
     "text": [
      "4\n",
      "4\n",
      "3\n"
     ]
    }
   ],
   "source": [
    "b.printList()"
   ]
  },
  {
   "cell_type": "code",
   "execution_count": 37,
   "metadata": {},
   "outputs": [],
   "source": [
    "c.printList()"
   ]
  }
 ],
 "metadata": {
  "kernelspec": {
   "display_name": "Python 3",
   "language": "python",
   "name": "python3"
  },
  "language_info": {
   "codemirror_mode": {
    "name": "ipython",
    "version": 3
   },
   "file_extension": ".py",
   "mimetype": "text/x-python",
   "name": "python",
   "nbconvert_exporter": "python",
   "pygments_lexer": "ipython3",
   "version": "3.6.2"
  }
 },
 "nbformat": 4,
 "nbformat_minor": 2
}
