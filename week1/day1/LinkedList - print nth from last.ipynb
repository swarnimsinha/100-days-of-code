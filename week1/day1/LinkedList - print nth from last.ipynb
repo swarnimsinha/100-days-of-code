{
 "cells": [
  {
   "cell_type": "code",
   "execution_count": 3,
   "metadata": {
    "collapsed": true
   },
   "outputs": [],
   "source": [
    "class Node():\n",
    "    \n",
    "    \n",
    "    def __init__(self, value=None, next=None):\n",
    "        self.value = value\n",
    "        self.next = next"
   ]
  },
  {
   "cell_type": "code",
   "execution_count": 127,
   "metadata": {
    "collapsed": true
   },
   "outputs": [],
   "source": [
    "class LinkedList():\n",
    "    \n",
    "    def __init__(self):\n",
    "        self.current = None\n",
    "    \n",
    "    def insert(self, value):\n",
    "        new_node = Node()\n",
    "        new_node.value = value\n",
    "        new_node.next = self.current\n",
    "        self.current = new_node\n",
    "        \n",
    "    def printList(self):\n",
    "        while self.current != None:\n",
    "            print(self.current.value)\n",
    "            self.current = self.current.next\n",
    "            \n",
    "    def printNFromLast(self, pos):\n",
    "        current = self.current\n",
    "        second = self.current\n",
    "        count = 0\n",
    "        while current.next != None:\n",
    "            count += 1\n",
    "            current = current.next\n",
    "        count = count - pos\n",
    "        i = 0\n",
    "        self.current = second\n",
    "        while i < count:\n",
    "            second = second.next\n",
    "            i += 1\n",
    "        print(second.value)"
   ]
  },
  {
   "cell_type": "code",
   "execution_count": 128,
   "metadata": {},
   "outputs": [],
   "source": [
    "a = LinkedList()\n",
    "a.insert(5)\n",
    "a.insert(6)\n",
    "a.insert(3)\n",
    "a.insert(4)"
   ]
  },
  {
   "cell_type": "code",
   "execution_count": 129,
   "metadata": {},
   "outputs": [
    {
     "name": "stdout",
     "output_type": "stream",
     "text": [
      "3\n"
     ]
    }
   ],
   "source": [
    "n = 2\n",
    "a.printNFromLast(n)"
   ]
  },
  {
   "cell_type": "code",
   "execution_count": 130,
   "metadata": {},
   "outputs": [
    {
     "name": "stdout",
     "output_type": "stream",
     "text": [
      "4\n",
      "3\n",
      "6\n",
      "5\n"
     ]
    }
   ],
   "source": [
    "a.printList()"
   ]
  },
  {
   "cell_type": "code",
   "execution_count": null,
   "metadata": {
    "collapsed": true
   },
   "outputs": [],
   "source": []
  }
 ],
 "metadata": {
  "kernelspec": {
   "display_name": "Python 3",
   "language": "python",
   "name": "python3"
  },
  "language_info": {
   "codemirror_mode": {
    "name": "ipython",
    "version": 3
   },
   "file_extension": ".py",
   "mimetype": "text/x-python",
   "name": "python",
   "nbconvert_exporter": "python",
   "pygments_lexer": "ipython3",
   "version": "3.6.2"
  }
 },
 "nbformat": 4,
 "nbformat_minor": 2
}
