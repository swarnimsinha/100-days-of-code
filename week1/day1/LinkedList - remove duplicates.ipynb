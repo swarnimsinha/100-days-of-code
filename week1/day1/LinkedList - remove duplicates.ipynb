{
 "cells": [
  {
   "cell_type": "code",
   "execution_count": 12,
   "metadata": {
    "collapsed": true
   },
   "outputs": [],
   "source": [
    "class Node():\n",
    "    \n",
    "    \n",
    "    def __init__(self, value=None, next=None):\n",
    "        self.value = value\n",
    "        self.next = next"
   ]
  },
  {
   "cell_type": "code",
   "execution_count": 156,
   "metadata": {},
   "outputs": [],
   "source": [
    "class LinkedList():\n",
    "    \n",
    "    def __init__(self):\n",
    "        self.current = None\n",
    "    \n",
    "    def insert(self, value):\n",
    "        new_node = Node()\n",
    "        new_node.value = value\n",
    "        new_node.next = self.current\n",
    "        self.current = new_node\n",
    "        \n",
    "    def printList(self):\n",
    "        while self.current != None:\n",
    "            print(self.current.value)\n",
    "            self.current = self.current.next\n",
    "            \n",
    "    def removeDuplicate(self):\n",
    "        linkedDict = {}\n",
    "        # logic: pick the first element and save it in current\n",
    "        second = self.current\n",
    "        # iterate through it till end isn't reached\n",
    "        while second != None:\n",
    "            # save the current item in the dictionary\n",
    "            linkedDict[second.value] = second.value\n",
    "            # if the next item is present and value is in dictionary\n",
    "            if second.next != None and second.next.value in linkedDict:\n",
    "                # skip the element\n",
    "                second.next = second.next.next\n",
    "            else:\n",
    "                # check for the next element\n",
    "                second = second.next"
   ]
  },
  {
   "cell_type": "code",
   "execution_count": 157,
   "metadata": {
    "collapsed": true
   },
   "outputs": [],
   "source": [
    "a = LinkedList()\n",
    "a.insert(5)\n",
    "a.insert(6)\n",
    "a.insert(3)\n",
    "a.insert(4)\n",
    "a.insert(3)\n",
    "a.insert(3)\n",
    "a.insert(3)\n",
    "a.insert(3)\n",
    "a.insert(4)\n",
    "a.insert(42)"
   ]
  },
  {
   "cell_type": "code",
   "execution_count": 158,
   "metadata": {},
   "outputs": [],
   "source": [
    "a.removeDuplicate()"
   ]
  },
  {
   "cell_type": "code",
   "execution_count": 159,
   "metadata": {},
   "outputs": [
    {
     "name": "stdout",
     "output_type": "stream",
     "text": [
      "42\n",
      "4\n",
      "3\n",
      "6\n",
      "5\n"
     ]
    }
   ],
   "source": [
    "a.printList()"
   ]
  },
  {
   "cell_type": "code",
   "execution_count": null,
   "metadata": {
    "collapsed": true
   },
   "outputs": [],
   "source": []
  }
 ],
 "metadata": {
  "kernelspec": {
   "display_name": "Python 3",
   "language": "python",
   "name": "python3"
  },
  "language_info": {
   "codemirror_mode": {
    "name": "ipython",
    "version": 3
   },
   "file_extension": ".py",
   "mimetype": "text/x-python",
   "name": "python",
   "nbconvert_exporter": "python",
   "pygments_lexer": "ipython3",
   "version": "3.6.2"
  }
 },
 "nbformat": 4,
 "nbformat_minor": 2
}
